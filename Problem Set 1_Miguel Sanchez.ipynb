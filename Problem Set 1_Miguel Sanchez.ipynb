{
 "cells": [
  {
   "cell_type": "markdown",
   "id": "a82eaacc",
   "metadata": {},
   "source": [
    "# Data Programming - Problem Set 1\n",
    "Miguel Sanchez"
   ]
  },
  {
   "cell_type": "markdown",
   "id": "c9e86d9c",
   "metadata": {},
   "source": [
    "## Question 1\n",
    "What data type is each of the following (evaluate where necessary)?"
   ]
  },
  {
   "cell_type": "markdown",
   "id": "edc69ac2",
   "metadata": {},
   "source": [
    "5                  <b>--> Integer value  </b>\n",
    "<p></p>\n",
    "5.0                <b>--> Float value </b>\n",
    "<p></p>\n",
    "5>1                <b>--> Boolean expression</b>\n",
    "<p></p>\n",
    "'5'                <b>--> String value</b>\n",
    "<p></p>\n",
    "5*2                <b>--> Algebraic expression (result= integer value)</b>\n",
    "<p></p>\n",
    "'5' * 2            <b>--> String value</b>\n",
    "<p></p>\n",
    "'5' + '2'          <b>--> String value</b>\n",
    "<p></p>\n",
    "5/2                <b>--> Algebraic expression (result= float value)</b>\n",
    "<p></p>\n",
    "5%2                <b>--> Algebraic expression (result= integer value)</b>\n",
    "<p></p>\n",
    "{5, 2, 1}          <b>--> Dictionary</b>\n",
    "<p></p>\n",
    "5 == 3             <b>--> Boolean expression</b>\n",
    "<p></p>\n",
    "Pi (the number)    <b>--> Float value (\"math.pi\" is a constant of the Standard Library module math)</b>"
   ]
  },
  {
   "cell_type": "markdown",
   "id": "1f036706",
   "metadata": {},
   "source": [
    "## Question 2\n",
    "Write (and evaluate) python expressions that answer these questions:\n",
    "<p></p>\n",
    "a. How many letters are there in 'Supercalifragilisticexpialidocious'?\n",
    "<p></p>\n",
    "b. Does 'Supercalifragilisticexpialidocious' contain 'ice' as a substring?\n",
    "<p></p>\n",
    "c. Which of the following words is the longest: Supercalifragilisticexpialidocious, Honorificabilitudinitatibus, or Bababadalgharaghtakamminarronnkonn?\n",
    "<p></p>\n",
    "d. Which composer comes first in the dictionary: 'Berlioz', 'Borodin', 'Brian', 'Bartok', 'Bellini', 'Buxtehude', 'Bernstein'. Which one comes last?"
   ]
  },
  {
   "cell_type": "code",
   "execution_count": 6,
   "id": "0376eb8a",
   "metadata": {},
   "outputs": [
    {
     "name": "stdout",
     "output_type": "stream",
     "text": [
      "Answer a -->  34\n",
      "Answer b -->  True\n",
      "Answer c -->  ['Supercalifragilisticexpialidocious', 'Bababadalgharaghtakamminarronnkonn']\n",
      "Answer d -->  First: Bartok        Last: Buxtehude\n"
     ]
    }
   ],
   "source": [
    "w1='Supercalifragilisticexpialidocious'\n",
    "w2='Honorificabilitudinitatibus'\n",
    "w3='Bababadalgharaghtakamminarronnkonn'\n",
    "\n",
    "#a\n",
    "print('Answer a --> ',len(w1))\n",
    "\n",
    "#b\n",
    "print('Answer b --> ','ice' in w1)\n",
    "\n",
    "#c\n",
    "lst=[w1,w2,w3]\n",
    "numLetLonWor=len(max(lst))\n",
    "lst2=[]\n",
    "for c in lst:\n",
    "    if numLetLonWor==len(c):\n",
    "        lst2.append(c)\n",
    "print('Answer c --> ', lst2)\n",
    "\n",
    "#d\n",
    "compo=['Berlioz', 'Borodin', 'Brian', 'Bartok', 'Bellini', 'Buxtehude', 'Bernstein']\n",
    "compo.sort()\n",
    "print('Answer d --> ','First:',compo[0],'       Last:',compo[len(compo)-1])\n"
   ]
  },
  {
   "cell_type": "markdown",
   "id": "3a02ee69",
   "metadata": {},
   "source": [
    "## Question 3\n",
    "Implement function triangleArea(a,b,c) that takes as input the lengths of the 3 sides of a triangle and returns the area of the triangle. By Heron's formula, the area of a triangle with side lengths a, b, and c is √(s(s-a)(s-b)(s-c)), where\n",
    "s=(a+b+c)/2.\n",
    "<p></p>\n",
    ">>> triangleArea(2,2,2)\n",
    "1.7320508075688772"
   ]
  },
  {
   "cell_type": "code",
   "execution_count": 25,
   "id": "7502e8c5",
   "metadata": {},
   "outputs": [
    {
     "data": {
      "text/plain": [
       "1.7320508075688772"
      ]
     },
     "execution_count": 25,
     "metadata": {},
     "output_type": "execute_result"
    }
   ],
   "source": [
    "import math\n",
    "\n",
    "def triangleArea(a,b,c):\n",
    "    s=(a+b+c)/2\n",
    "    area=math.sqrt(s*(s-a)*(s-b)*(s-c))\n",
    "    return area\n",
    "\n",
    "triangleArea(2,2,2)"
   ]
  },
  {
   "cell_type": "markdown",
   "id": "a9facd8a",
   "metadata": {},
   "source": [
    "## Question 4\n",
    "Write a program in python to separate odd and even integers in separate arrays. Go to the editor\n",
    "<p></p>\n",
    "Test Data :\n",
    "<p></p>\n",
    "Input the number of elements to be stored in the array :5\n",
    "<p></p>\n",
    "Input 5 elements in the array : element - 0 : 25\n",
    "<p></p>\n",
    "element - 1 : 47\n",
    "<p></p>\n",
    "element - 2 : 42\n",
    "<p></p>\n",
    "element - 3 : 56 element - 4 : 32 Expected Output:\n",
    "<p></p>\n",
    "The Even elements are: 42 56 32\n",
    "<p></p>\n",
    "The Odd elements are : 25 47"
   ]
  },
  {
   "cell_type": "code",
   "execution_count": 30,
   "id": "9168c568",
   "metadata": {},
   "outputs": [
    {
     "name": "stdout",
     "output_type": "stream",
     "text": [
      "The Even elements are:\n",
      "42 56 32 \n",
      "The Odd elements are:\n",
      "25 47 "
     ]
    }
   ],
   "source": [
    "def oddEven(lst):\n",
    "    odds=[]\n",
    "    evens=[]\n",
    "    for c in lst:\n",
    "        if c%2 ==0:\n",
    "            evens.append(c)\n",
    "        else:\n",
    "            odds.append(c)\n",
    "            \n",
    "    print('The Even elements are:')\n",
    "    for d in evens:\n",
    "        print(d,end=' ')\n",
    "    print('\\nThe Odd elements are:')\n",
    "    for e in odds:\n",
    "        print(e,end=' ')\n",
    "        \n",
    "oddEven([25,47,42,56,32]);"
   ]
  },
  {
   "cell_type": "markdown",
   "id": "5f76c2b1",
   "metadata": {},
   "source": [
    "## Question 5\n",
    "a. Write a function inside(x,y,x1,y1,x2,y2) that returns True or False depending on whether the point (x,y) lies in the rectangle with lower left corner (x1,y1) and upper right corner (x2,y2).\n",
    "<p></p>\n",
    "     >>> inside(1,1,0,0,2,3)\n",
    "     <p></p>\n",
    "     True\n",
    "     <p></p>\n",
    "     >>> inside(-1,-1,0,0,2,3)\n",
    "     <p></p>\n",
    "     False\n",
    "     <p></p>\n",
    "b. Use function inside() from part a. to write an expression that tests whether the point (1,1) lies in both of the following rectangles: one with lower left corner (0.3, 0.5) and upper right corner (1.1, 0.7) and the other with lower left corner (0.5, 0.2) and upper right corner (1.1, 2)."
   ]
  },
  {
   "cell_type": "code",
   "execution_count": 33,
   "id": "dd4bb5a6",
   "metadata": {},
   "outputs": [
    {
     "name": "stdout",
     "output_type": "stream",
     "text": [
      "Answer a:\n",
      "True\n",
      "False\n",
      "Answer b --> False\n"
     ]
    }
   ],
   "source": [
    "def inside(x,y,x1,y1,x2,y2): #Profe se considera adentro si esta en el borde?\n",
    "    if x1<x<x2:\n",
    "        if y1<y<y2:\n",
    "            return True\n",
    "    return False\n",
    "\n",
    "print('Answer a:')\n",
    "print(inside(1,1,0,0,2,3))\n",
    "print(inside(-1,-1,0,0,2,3))\n",
    "\n",
    "print('Answer b -->',inside(1,1,0.3,0.5,1.1,0.7) and inside(1,1,0.5,0.2,1.1,2))"
   ]
  },
  {
   "cell_type": "markdown",
   "id": "f291986b",
   "metadata": {},
   "source": [
    "## Question 6\n",
    "16. You can turn a word into pig-Latin using the following two rules (simplified):\n",
    "<p></p>\n",
    "• If the word starts with a consonant, move that letter to the end and append\n",
    "'ay'. For example, 'happy' becomes 'appyhay' and 'pencil' becomes 'encilpay'.\n",
    "<p></p>\n",
    "• If the word starts with a vowel, simply append 'way' to the end of the word. For example, 'enter' becomes 'enterway' and 'other' becomes 'otherway' . For\n",
    "our purposes, there are 5 vowels: a, e, i, o, u (so we count y as a consonant). \n",
    "<p></p>\n",
    "Write a function pig() that takes a word (i.e., a string) as input and returns its pig- Latin form. Your function should still work if the input word contains upper case characters. Your output should always be lower case however.\n",
    "<p></p>\n",
    ">>> pig('happy')\n",
    "'appyhay'\n",
    "<p></p>\n",
    ">>> pig('Enter')\n",
    "'enterway'"
   ]
  },
  {
   "cell_type": "code",
   "execution_count": 42,
   "id": "fcb692ee",
   "metadata": {},
   "outputs": [
    {
     "name": "stdout",
     "output_type": "stream",
     "text": [
      "appyhay\n",
      "enterway\n"
     ]
    }
   ],
   "source": [
    "def pig(word):\n",
    "    vowel='aeiou'\n",
    "    loword=word.lower()\n",
    "    neword=''\n",
    "\n",
    "    if loword[0] in vowel:\n",
    "        neword=loword+'way'\n",
    "    else:\n",
    "        neword=loword[1:]+loword[0]+'ay'\n",
    "    return neword\n",
    "\n",
    "print(pig('happy'))\n",
    "print(pig('Enter'))  "
   ]
  },
  {
   "cell_type": "markdown",
   "id": "8992d7ca",
   "metadata": {},
   "source": [
    "## Question 7\n",
    "<p></p>\n",
    "File bloodtype1.txt records blood-types of patients (A, B, AB, O or OO) at a clinic. Write a function bldcount() that reads the file with name name and reports (i.e., prints) how many patients there are in each bloodtype.\n",
    "<p></p>\n",
    ">>> bldcount('bloodtype.txt')<p></p>\n",
    "There are 10 patients of blood type A. \n",
    "<p></p>\n",
    "There is one patient of blood type B. \n",
    "<p></p>\n",
    "There are 10 patients of blood type AB. \n",
    "<p></p>\n",
    "There are 12 patients of blood type O.\n",
    "<p></p>\n",
    "There are no patients of blood type OO."
   ]
  },
  {
   "cell_type": "code",
   "execution_count": 14,
   "id": "b016625b",
   "metadata": {},
   "outputs": [
    {
     "name": "stdout",
     "output_type": "stream",
     "text": [
      "There are  15  patients of blood type A\n",
      "There are  1  patients of blood type B\n",
      "There are  13  patients of blood type AB\n",
      "There are  15  patients of blood type O\n",
      "There are  0  patients of blood type OO\n"
     ]
    }
   ],
   "source": [
    "def bldcount(file):\n",
    "    name = open(file)\n",
    "    content = name.read()\n",
    "    bloodtype=''\n",
    "    bloodtypes=[]\n",
    "    for c in content:\n",
    "        if c== ' ':\n",
    "            bloodtypes.append(bloodtype)\n",
    "            bloodtype=''\n",
    "        else:\n",
    "            bloodtype+=c\n",
    "    print('There are ',bloodtypes.count('A'),' patients of blood type A')\n",
    "    print('There are ',bloodtypes.count('B'),' patients of blood type B')\n",
    "    print('There are ',bloodtypes.count('AB'),' patients of blood type AB')\n",
    "    print('There are ',bloodtypes.count('O'),' patients of blood type O')\n",
    "    print('There are ',bloodtypes.count('OO'),' patients of blood type OO')\n",
    "    \n",
    "bldcount('bloodtype.txt')\n",
    "    "
   ]
  },
  {
   "cell_type": "markdown",
   "id": "95b315c2",
   "metadata": {},
   "source": [
    "## Question 8\n",
    "Write a function curconv() that takes as input:\n",
    "<p></p>\n",
    "1. a currency represented using a string (e.g., 'JPY' for the Japanese Yen or 'EUR' for the Euro)\n",
    "<p></p>\n",
    "2. an amount\n",
    "<p></p>\n",
    "and then converts and returns the amount in US dollars.\n",
    "<p></p>\n",
    ">>> curconv('EUR', 100)\n",
    "<p></p>\n",
    "122.96544\n",
    "<p></p>\n",
    ">>> curconv('JPY', 100)\n",
    "<p></p>\n",
    "1.241401\n",
    "<p></p>\n",
    "The currency rates you will need are stored in file currencies.txt:\n",
    "<p></p>\n",
    "AUD 1.0345157 Australian Dollar\n",
    "<p></p>\n",
    "CHF 1.0237414 Swiss Franc\n",
    "<p></p>\n",
    "CNY 0.1550176 Chinese Yuan\n",
    "<p></p>\n",
    "DKK 0.1651442 Danish Krone \n",
    "<p></p>\n",
    "EUR 1.2296544 Euro\n",
    "<p></p>\n",
    "GBP 1.5550989 British Pound \n",
    "<p></p>\n",
    "HKD 0.1270207 Hong Kong Dollar \n",
    "<p></p>\n",
    "INR 0.0177643 Indian Rupee \n",
    "<p></p>\n",
    "JPY 0.01241401 JapaneseYen\n",
    "<p></p>\n",
    "MXN 0.0751848 Mexican Peso\n",
    "<p></p>\n",
    "MYR 0.3145411 Malaysian Ringgit\n",
    "<p></p>\n",
    "NOK 0.1677063 Norwegian Krone\n",
    "<p></p>\n",
    "NZD 0.8003591 New Zealand Dollar\n",
    "<p></p>\n",
    "PHP 0.0233234 Philippine Peso\n",
    "<p></p>\n",
    "SEK 0.148269 Swedish Krona\n",
    "<p></p>\n",
    "SGD 0.788871 Singapore Dollar\n",
    "<p></p>\n",
    "THB 0.0313789 Thai Baht"
   ]
  },
  {
   "cell_type": "code",
   "execution_count": 21,
   "id": "360c5e8f",
   "metadata": {},
   "outputs": [
    {
     "name": "stdout",
     "output_type": "stream",
     "text": [
      "122.96544\n",
      "1.241401\n"
     ]
    }
   ],
   "source": [
    "def curconv(curreString,amount):\n",
    "    currencies=open('currencies.txt')\n",
    "    lines=currencies.readlines()\n",
    "    \n",
    "    usDollars=0\n",
    "    for i in lines:\n",
    "        if i.split()[0]==curreString:\n",
    "            usDollars=float(i.split()[1])*amount\n",
    "            print(usDollars)\n",
    "            break\n",
    "\n",
    "curconv('EUR', 100)\n",
    "curconv('JPY', 100)"
   ]
  },
  {
   "cell_type": "markdown",
   "id": "25626e09",
   "metadata": {},
   "source": [
    "## Question 9\n",
    "Each of the following will cause an exception (an error). Identify what type of exception each will cause.\n",
    "<p></p>\n",
    "Trying to add incompatible variables, as in adding 6 + ‘a’ <b>--> TypeError</b>\n",
    "<p></p>\n",
    "Referring to the 12th item of a list that has only 10 items <b>--> IndexError</b>\n",
    "<p></p>\n",
    "Using a value that is out of range for a function’s input, such as calling math.sqrt(-1.0) <b>--> ValueError</b>\n",
    "<p></p>\n",
    "Using an undeclared variable, such as print(x) when x has not been defined <b>--> NameError</b>\n",
    "<p></p>\n",
    "Trying to open a file that does not exist, such as mistyping the file name or looking in the wrong directory. <b>--> FileNotFoundError</b>"
   ]
  },
  {
   "cell_type": "code",
   "execution_count": 38,
   "id": "0894716a",
   "metadata": {},
   "outputs": [
    {
     "ename": "FileNotFoundError",
     "evalue": "[Errno 2] No such file or directory: 'urrencies.txt'",
     "output_type": "error",
     "traceback": [
      "\u001b[0;31m---------------------------------------------------------------------------\u001b[0m",
      "\u001b[0;31mFileNotFoundError\u001b[0m                         Traceback (most recent call last)",
      "Cell \u001b[0;32mIn[38], line 1\u001b[0m\n\u001b[0;32m----> 1\u001b[0m currencies\u001b[38;5;241m=\u001b[39m\u001b[38;5;28;43mopen\u001b[39;49m\u001b[43m(\u001b[49m\u001b[38;5;124;43m'\u001b[39;49m\u001b[38;5;124;43murrencies.txt\u001b[39;49m\u001b[38;5;124;43m'\u001b[39;49m\u001b[43m)\u001b[49m\n\u001b[1;32m      2\u001b[0m lines\u001b[38;5;241m=\u001b[39mcurrencies\u001b[38;5;241m.\u001b[39mreadlines()\n",
      "File \u001b[0;32m~/anaconda3/lib/python3.10/site-packages/IPython/core/interactiveshell.py:282\u001b[0m, in \u001b[0;36m_modified_open\u001b[0;34m(file, *args, **kwargs)\u001b[0m\n\u001b[1;32m    275\u001b[0m \u001b[38;5;28;01mif\u001b[39;00m file \u001b[38;5;129;01min\u001b[39;00m {\u001b[38;5;241m0\u001b[39m, \u001b[38;5;241m1\u001b[39m, \u001b[38;5;241m2\u001b[39m}:\n\u001b[1;32m    276\u001b[0m     \u001b[38;5;28;01mraise\u001b[39;00m \u001b[38;5;167;01mValueError\u001b[39;00m(\n\u001b[1;32m    277\u001b[0m         \u001b[38;5;124mf\u001b[39m\u001b[38;5;124m\"\u001b[39m\u001b[38;5;124mIPython won\u001b[39m\u001b[38;5;124m'\u001b[39m\u001b[38;5;124mt let you open fd=\u001b[39m\u001b[38;5;132;01m{\u001b[39;00mfile\u001b[38;5;132;01m}\u001b[39;00m\u001b[38;5;124m by default \u001b[39m\u001b[38;5;124m\"\u001b[39m\n\u001b[1;32m    278\u001b[0m         \u001b[38;5;124m\"\u001b[39m\u001b[38;5;124mas it is likely to crash IPython. If you know what you are doing, \u001b[39m\u001b[38;5;124m\"\u001b[39m\n\u001b[1;32m    279\u001b[0m         \u001b[38;5;124m\"\u001b[39m\u001b[38;5;124myou can use builtins\u001b[39m\u001b[38;5;124m'\u001b[39m\u001b[38;5;124m open.\u001b[39m\u001b[38;5;124m\"\u001b[39m\n\u001b[1;32m    280\u001b[0m     )\n\u001b[0;32m--> 282\u001b[0m \u001b[38;5;28;01mreturn\u001b[39;00m \u001b[43mio_open\u001b[49m\u001b[43m(\u001b[49m\u001b[43mfile\u001b[49m\u001b[43m,\u001b[49m\u001b[43m \u001b[49m\u001b[38;5;241;43m*\u001b[39;49m\u001b[43margs\u001b[49m\u001b[43m,\u001b[49m\u001b[43m \u001b[49m\u001b[38;5;241;43m*\u001b[39;49m\u001b[38;5;241;43m*\u001b[39;49m\u001b[43mkwargs\u001b[49m\u001b[43m)\u001b[49m\n",
      "\u001b[0;31mFileNotFoundError\u001b[0m: [Errno 2] No such file or directory: 'urrencies.txt'"
     ]
    }
   ],
   "source": [
    "currencies=open('urrencies.txt')\n",
    "lines=currencies.readlines()"
   ]
  },
  {
   "cell_type": "markdown",
   "id": "c25d7744",
   "metadata": {},
   "source": [
    "## Question 10\n",
    "Encryption is the process of hiding the meaning of a text by substituting letters in the message with other letters, according to some system. If the process is successful, no one but the intended recipient can understand the encrypted message. Cryptanalysis refers to attempts to undo the encryption, even if some details of the encryption are unknown (for example, if an encrypted message has been intercepted). The first step of cryptanalysis is often to build up a table of letter frequencies in the encrypted text. \n",
    "<p></p>\n",
    "Assume that the string letters is already defined as 'abcdefghijklmnopqrstuvwxyz'. Write a function called frequencies() that takes a string as its only parameter, and returns a list of integers, showing the number of times each character appears in the text. Your function may ignore any characters that are not in letters.\n",
    "<p></p>\n",
    ">>> frequencies('The quick red fox got bored and went home.')\n",
    "<p></p>\n",
    "[1, 1, 1, 3, 5, 1, 1, 2, 1, 0, 1, 0, 1, 2, 4, 0, 1, 2, 0, 2, 1, 0, 1, 1, 0, 0]\n",
    "<p></p>\n",
    ">>> frequencies('apple')"
   ]
  },
  {
   "cell_type": "code",
   "execution_count": 32,
   "id": "b88e0a52",
   "metadata": {},
   "outputs": [
    {
     "name": "stdout",
     "output_type": "stream",
     "text": [
      "[1, 1, 1, 3, 5, 1, 1, 2, 1, 0, 1, 0, 1, 2, 4, 0, 1, 2, 0, 2, 1, 0, 1, 1, 0, 0]\n",
      "[1, 0, 0, 0, 1, 0, 0, 0, 0, 0, 0, 1, 0, 0, 0, 2, 0, 0, 0, 0, 0, 0, 0, 0, 0, 0]\n"
     ]
    }
   ],
   "source": [
    "def frequencies(stri):\n",
    "    letters='abcdefghijklmnopqrstuvwxyz'\n",
    "    freq=[]\n",
    "    for i in range(len(letters)):\n",
    "        freq.append(0)\n",
    "        for j in stri:\n",
    "            if letters[i]==j:\n",
    "                freq[i]+=1\n",
    "    print(freq)\n",
    "                \n",
    "frequencies('The quick red fox got bored and went home.')\n",
    "frequencies('apple')"
   ]
  },
  {
   "cell_type": "code",
   "execution_count": null,
   "id": "9442db93",
   "metadata": {},
   "outputs": [],
   "source": []
  }
 ],
 "metadata": {
  "kernelspec": {
   "display_name": "Python 3 (ipykernel)",
   "language": "python",
   "name": "python3"
  },
  "language_info": {
   "codemirror_mode": {
    "name": "ipython",
    "version": 3
   },
   "file_extension": ".py",
   "mimetype": "text/x-python",
   "name": "python",
   "nbconvert_exporter": "python",
   "pygments_lexer": "ipython3",
   "version": "3.10.9"
  }
 },
 "nbformat": 4,
 "nbformat_minor": 5
}
